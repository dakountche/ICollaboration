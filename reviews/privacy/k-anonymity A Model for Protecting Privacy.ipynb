{
 "cells": [
  {
   "cell_type": "markdown",
   "metadata": {},
   "source": [
    "# k-anonymity: A Model for Protecting Privacy"
   ]
  },
  {
   "cell_type": "markdown",
   "metadata": {},
   "source": [
    "- Authors: Latanya Sweeney"
   ]
  },
  {
   "cell_type": "markdown",
   "metadata": {},
   "source": [
    "- Reader: Djibrilla Amadou Kountche"
   ]
  },
  {
   "cell_type": "markdown",
   "metadata": {},
   "source": [
    "## Abstract\n",
    "\n",
    "- Given a data holder (hospital or bank) having privatly held of person-specific, field structured data wanting to share a version of the data: \n",
    "  - How can the data be released with a 'scientific guarrantees' that individuals who are the subjects of the data cannot be re-identified while the data remain particularly usefull ?\n",
    "\n",
    "- The paper presents k-anonymity and a set of accompanying policies for deployment\n",
    "- The paper also examines re-identification attacks that can be realized on releases that adhere to k-anaonymity unless accompanying policies are respected"
   ]
  },
  {
   "cell_type": "markdown",
   "metadata": {},
   "source": [
    "### Keywords:\n",
    "- data abonymity, data privacy, re-identification, data fusion, privacy, k-map, wrong-map, null-map"
   ]
  },
  {
   "cell_type": "markdown",
   "metadata": {},
   "source": [
    "## The problem studied\n",
    "\n",
    "- Exponential growth of the number and variety of data collections\n",
    "- Data holders, operating autonomously and with limited knownledge, are left with the difficulty of releasing information that does not compromise the  privacy, confidentiality and national interests\n",
    "- The survival of the database itself depends on the data holder's ability to produce anonymous data because not relasing such information at all may dimish the need for the data, while on the other hand, failing to provide propoer protection within a relase may create circumtances that harm the public or others\n",
    "- A common practice is for organizations to realse and receive person-specific data with all explicit identifiers, such as name, address and telephone number removed on the assumption that anonymity is maintained because the resulting data look anonymous. \n",
    "- The remaining data can be use to re-identify individuals by linking or matching the data to other data or by looking at unique characteristics found in the realesead data\n",
    "\n",
    "- How many individuals within a geographycally situated population had combinations of demographic values that occured infrequently ?\n",
    "- Combinations of few characteristics often combine in polpulation to uniquely or nearly uniquely identify some individuals:\n",
    "   - 87% of the U.S population reported characteristics that uniquely made them unique based only on 5 digit ZIP, gender, date of birth. \n",
    "   - Data released containing such information about these individuals should not be considered anonymous\n",
    "\n",
    "### Exemple of re-identification\n",
    "- Linking the medical data and voter list led to the identification of William Weld governor of Massachusetts. "
   ]
  },
  {
   "cell_type": "markdown",
   "metadata": {},
   "source": [
    "## The solution proposed\n",
    "\n"
   ]
  },
  {
   "cell_type": "markdown",
   "metadata": {},
   "source": [
    "### Methods\n",
    "\n",
    "- Provide a model for understanding, evaluating and constructing computational systems that control inferences\n",
    "- Provides a formal framework for constructing and evaluating algorithms and systems that realease inforamtion such that the released information limit what can be revealed about properties of the entities that are to be protected\n",
    "\n",
    "- In the paper the entities are people and the property is the identity (other properties can be protected)\n",
    "- Data refers to person-specific information that is conceptually organisezd as a table of rows (or records) and columns (or fields):\n",
    "  - each row is termed t-uples (are not necesseraly unique)\n",
    "  - each column is called attribute (denotes a field or semantic category of information that is a set of possible values). An attribute is also a domain. Attributes are unique in a table. \n",
    "  - each row is an ordered n-tuple $(d_1, d_2, \\cdots, d_n)$ such that $d_j$ is the domain of the jth column.\n",
    "\n",
    "#### Definitions"
   ]
  },
  {
   "cell_type": "markdown",
   "metadata": {},
   "source": [
    "##### Attributes\n",
    "\n",
    "- Let $B(A_1, \\cdots, A_n)$ be a table with a finite number of tuples. The finite set of attributes of $B$ are $\\{A_1, \\cdots, A_n\\}$\n",
    "\n",
    "- $t[A_i, \\cdots, A_j]$ denote the sequence of values, $v_i, \\cdots, v_j$ in $t$\n",
    "\n",
    "- $B[A_i, \\cdots, A_j]$ is the projection, maintaining duplicate tuples of attribute $A_i, \\cdots, A_j$ in $B$\n",
    "\n",
    "- each t-uple is assumed to be specific to one person and no two tuples pertain to the same person\n"
   ]
  },
  {
   "cell_type": "markdown",
   "metadata": {},
   "source": [
    "##### Inference\n",
    "- Is to come to believe a new fact on the basis of other information"
   ]
  },
  {
   "cell_type": "markdown",
   "metadata": {},
   "source": [
    "##### Disclosure\n",
    "- Means that explicit or inferable information about a person was released that was not intended\n",
    "- Disclosure control  attempts to identify and limit disclosures in relased data (assured the disclosed data are suffisently anonymous)\n",
    "- The collection holder is expected to identify all attributes in the private information that could be used for linking with external information"
   ]
  },
  {
   "cell_type": "markdown",
   "metadata": {},
   "source": [
    "##### Quasi-identifiers \n",
    "\n",
    "A quasi-identifier of $T$, $Q_T$ is a set of attributes $\\{A_i, \\cdots, A_n\\}$ where: $\\exists p_i \\in U$ such that\n",
    "$f_g(f_c(p_i))[Q_T] = p_i$\n",
    "\n",
    "Given : \n",
    "- a population of entities $U$\n",
    "- an entity-specific table $T(A_1, \\cdots, A_n)$\n",
    "- $f_c: U \\rightarrow T$\n",
    "- $f_g: T \\rightarrow U^{'}$ where $U \\subseteq U^{'}$\n",
    "\n",
    "The problem is to prohibit the linking of attributes available in public database and private data base.\n"
   ]
  },
  {
   "cell_type": "markdown",
   "metadata": {},
   "source": [
    "## Assumptions\n",
    "\n",
    "- The data holder can identify attributes in his private data that may also appear in external inforamtion and therefore, can accuratly identify quasi-identifiers. \n",
    "\n",
    "- If the data holder misjudges which attributes are sensitive for the linking, the released data may be less anonymous than what was required and individuals may be more easily identifiable: \n",
    "    - The data holder cannot always know what each recipient of the data knows but policies and contract, which lies outside the algorithms can help.\n",
    "    - the data holder may find it necessary to releases data that are only partially anonymous. Again policies laws and contracts can provide complementary protections\n",
    "\n",
    "- A single quasi-identifier based on attributes without weights appearing together in an external table or in a possible join of external tables "
   ]
  },
  {
   "cell_type": "markdown",
   "metadata": {},
   "source": [
    "### $k$-anonymity protection model\n",
    "\n",
    "#### Definition\n",
    "\n",
    "Let:\n",
    "\n",
    "- $RT(A_1,\\cdots, A_n)$ be a table and $QI_{RT}$ be the quasi-identifier associated with it\n",
    "\n",
    "$RT$ is said to satisfy $k$-anonymity if and only if each sequence of values in $RT[QI_{RT}]$ appears with at least $k$ occurences in $RT[QI_{RT}]$.\n",
    "\n",
    "\n",
    "#### Lemma\n",
    "Let:\n",
    "\n",
    "- $RT(A_1,\\cdots, A_n)$ be a table and $QI_{RT}$ be the quasi-identifiers associated with it\n",
    "- $(A_i,\\cdots, A_j) \\subseteq (A_1,\\cdots, A_n)$ and RT satisfies k-anonymity\n",
    "\n",
    "Then each sequence of values in $RT[Ax]$ appears with at least $k$ occurrences in $RT[QI_{RT}]$ for $x = i \\cdots j$\n",
    "\n",
    "#### The protection\n",
    "\n",
    "- When RT satisfies $k$-anonymity with respect to the identifiers $QI_{PT}$ then the combination of the released data RT and the external sources on which $QI_{PT}$ was based, cannot link on $QI_{PT}$  or a subset of its attributes to match fewer than $k$ individuals\n",
    "- This property holds provided that all attribute in the released table $RT$ which are externally available in  combination ($ie$ appearing together in an external table or in a possible join of external tales) are defined in the quasi-identifiers QI_PT associated with the private table PT\n",
    "\n",
    "- This property does not guarrantee individuals cannot be identified in RT; there may exist other inference attacks that could reveal the identities of the individuals contained in the data. However, the property does protect RT against inference from linking (by direct matching) to known external sources; and in this context the solution can provide an effective guard against re-identifying individuals. "
   ]
  },
  {
   "cell_type": "markdown",
   "metadata": {},
   "source": [
    "### Attacks againts $k$-anonymity\n",
    "\n",
    "#### unsorted matching\n",
    "\n",
    "- is based on the order in which tuples appear in the released table\n",
    "- Solution : \n",
    "   - Randomly sort the data\n",
    "\n",
    "#### Complementary release\n",
    "\n",
    "- It is more common that the attributes that constitue the quasi-identifiers are themselves a subset of the attributes  released as a result when a table T, which adderes to $k$-anonymity is released it should be considered as joining other external information. \n",
    "\n",
    "- Solution:\n",
    "   - Subsequent releases of the same privatetly held information must consider all of the released attributes of T a quasi-identifier to prohibit linking on T, unless of course, subsequent releases are based on T. \n",
    "\n",
    "\n",
    "#### Temporal\n",
    "\n",
    "- Data collections are dynamic, the releases of generalized data over time can be subject to a temporal inference attack\n",
    "\n",
    "- Let $T_0$ be the original privatly held table at time $t=0$\n",
    "\n",
    "- Assume $k$-anonymity solution based on $T_0$, which is called $RT_0$ is released\n",
    "\n",
    "- Assume at time $t$, additinnal tuple were added to the privately held table $T_0$ so it becames $T_t$\n",
    "- $RT_t$ is the released table at $t$\n",
    "- If there is no requirements that $RT_t$ respects $RT_0$, linking the two tables may reveal sensitive information\n",
    "and compromise $k$-anonymity.\n",
    "- Solution:\n",
    "  - either all of the attributes of $RT_0$ would be considered a quasi-identifier for subsequent releases, or subsequent releases would be based on $RT_0$. \n"
   ]
  },
  {
   "cell_type": "markdown",
   "metadata": {},
   "source": [
    "## Experimentation\n",
    "\n",
    "- type : illustrations"
   ]
  },
  {
   "cell_type": "code",
   "execution_count": null,
   "metadata": {},
   "outputs": [],
   "source": [
    "## Exemple of anonymised table\n",
    "import pandas as pd\n",
    "import numpy as np\n",
    "\n",
    "kanon = pd.read_csv ('../../data/example.csv',index_col='t')\n",
    "kanon"
   ]
  },
  {
   "cell_type": "code",
   "execution_count": null,
   "metadata": {},
   "outputs": [],
   "source": [
    "qi = ['Race', 'Birth', 'Gender','ZIP']\n",
    "k = 2\n",
    "\n",
    "\n",
    "def testKanonymity(df, qi, k):\n",
    "    return df[qi]\n",
    "\n",
    "\n",
    "def link(source, target, attribute):\n",
    "    pass\n",
    "\n",
    "\n",
    "testKanonymity(kanon,qi,k)"
   ]
  },
  {
   "cell_type": "code",
   "execution_count": null,
   "metadata": {
    "collapsed": true
   },
   "outputs": [],
   "source": [
    "### Unsorted match\n"
   ]
  },
  {
   "cell_type": "code",
   "execution_count": null,
   "metadata": {},
   "outputs": [],
   "source": [
    "### Complementary release\n",
    "pt = pd.read_csv('../../data/example6.csv')\n",
    "lt = pd.read_csv('../../data/example6lt.csv')\n",
    "gt1 = pd.read_csv('../../data/example6gt1.csv')\n",
    "gt3 = pd.read_csv('../../data/example6gt3.csv')\n",
    "\n",
    "tables = [gt1, gt3]\n",
    "pd.concat(tables).groupby('Problem')"
   ]
  },
  {
   "cell_type": "code",
   "execution_count": null,
   "metadata": {},
   "outputs": [],
   "source": [
    "### Temporal \n",
    "#t = 0\n",
    "pt = pd.read_csv('../../data/example6.csv')\n",
    "\n",
    "t1 = [['black', '9/7/65', 'male','02139', 'headache'], ['black', '11/4/65', 'male','02139', 'rash']]\n",
    "\n",
    "pt1 = pt.append([pd.Series(x,index=['Race', 'Birth', 'Gender','ZIP','Problem']) for x in t1], ignore_index=True)\n",
    "pt1"
   ]
  },
  {
   "cell_type": "markdown",
   "metadata": {},
   "source": [
    "## Related works\n",
    "\n",
    "### Statistical databases\n",
    "- Various ways to add noise to the data while still maintaining some statistical invariant\n",
    "- But often destroy the integrity of the records, or tuples and so for many new uses of data, these established techniques are not appropriate\n",
    "\n",
    "### Multi-level databases\n",
    "\n",
    "- Aggregation and inference in multi-level databases which concernes restricting the relases of lower classified information such that higher classified information cannot be derived\n",
    "- A multi level data bases is a database having data stored at different security classifications and users having different security clearances\n",
    "- Suppression is the primary technique used to control the flow of sensitive information where sensitive information and all inforamtion that allows the inference of sensitive inforamtion are simply not released.  Suppression can drastically reduce the quality of the data, and in the case of staitical use, overall statistics can be altered, rendering the data practically useless. \n",
    "- In certain case not releasing the data is possible\n",
    "\n",
    "### Computer security\n",
    "\n",
    "- Access control and authentication do not address disclosures based on inference that can be drawn from released data\n",
    "- The more insidious problem in the work that is the subject of this paper is not so much wether the recipient can get access or not ot the information as much as  what values will constitute the information the recipient will receive\n",
    "\n",
    "### Multiple queries can leak information\n",
    "\n",
    "- Certains queries on certain tables can reveal sensitive information\n",
    "- One solution is query restriction to prohibit such queries\n"
   ]
  },
  {
   "cell_type": "markdown",
   "metadata": {},
   "source": [
    "## Reader's remarks\n",
    "\n",
    "\n",
    "### New words:\n",
    "\n",
    "- thwart \n",
    "- colloquial use\n",
    "- wheezing\n",
    "- rash\n",
    "\n",
    "### Pros\n",
    "\n",
    "### Cons"
   ]
  },
  {
   "cell_type": "code",
   "execution_count": null,
   "metadata": {},
   "outputs": [],
   "source": [
    "### Prints the definifion:\n",
    "from bs4 import BeautifulSoup\n",
    "from urllib.request import urlopen, Request\n",
    "from IPython.core.display import display, HTML\n",
    "\n",
    "website = 'https://en.wiktionary.org/w/index.php?title={}&printable=yes'\n",
    "larousse = 'http://www.larousse.fr/dictionnaires/anglais-francais/{}'\n",
    "\n",
    "    \n",
    "\n",
    "def request(url, word):\n",
    "    html = urlopen(Request(url.format(word),headers={'User-Agent': 'Mozilla'})).read().decode('UTF-8')\n",
    "    soup = BeautifulSoup(html,\"lxml\")\n",
    "    \n",
    "    articles = [item for item in soup.find_all('article', attrs={'role' : True})]\n",
    "   \n",
    "    [display(HTML(str(article))) for article in articles]\n",
    "    \n",
    "words = ['overheard', 'thwart', 'colloquial','wheezing','rash']\n",
    "\n",
    "[request(larousse, x) for x in words]"
   ]
  }
 ],
 "metadata": {
  "anaconda-cloud": {},
  "kernelspec": {
   "display_name": "Python 3",
   "language": "python",
   "name": "python3"
  },
  "language_info": {
   "codemirror_mode": {
    "name": "ipython",
    "version": 3
   },
   "file_extension": ".py",
   "mimetype": "text/x-python",
   "name": "python",
   "nbconvert_exporter": "python",
   "pygments_lexer": "ipython3",
   "version": "3.6.1"
  }
 },
 "nbformat": 4,
 "nbformat_minor": 2
}
