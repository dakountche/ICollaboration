{
 "cells": [
  {
   "cell_type": "markdown",
   "metadata": {},
   "source": [
    "# Protecting Location Privacy with Dynamic MAC Address Exchanging in Wireless Networks"
   ]
  },
  {
   "cell_type": "markdown",
   "metadata": {},
   "source": [
    "- Authors : Ming Lei, Xiaoyan Hong, Susan V. Vrbsky"
   ]
  },
  {
   "cell_type": "markdown",
   "metadata": {},
   "source": [
    " - Reader : Djibrilla Amadou Kountché"
   ]
  },
  {
   "cell_type": "markdown",
   "metadata": {},
   "source": [
    "## Abstract\n",
    "\n",
    " - Dynamical MAC Assignment with Shuffle (DMAS) to allow the MAC address holder to change its addresses with others\n",
    "\n",
    " - To protect the location privacy of the users in WLAN"
   ]
  },
  {
   "cell_type": "markdown",
   "metadata": {},
   "source": [
    "### Keywords\n",
    "Location privacy"
   ]
  },
  {
   "cell_type": "markdown",
   "metadata": {},
   "source": [
    "## The problem studied\n",
    "\n",
    "- The availability of location information poses the following threats:\n",
    "  - Correlation of users identity, vehicle movements with GPS positions to infer patterns (visit to a doctor, etc)  \n",
    "  - Lower the security of the mobile device (location may be used by attackers)\n",
    "  - Physical danger for the holder of the identity\n",
    "\n",
    "- Indivival location information can be easily collected due to:\n",
    "   - the use of devices that allow location tracking of the user\n",
    "   - wireless communication mechanisms:\n",
    "      - Registrations of cell phones at cells\n",
    "      - Registrations of 802.11 devices to Access Points (AP)\n",
    "      - Communications among Vehicles and Road Side units\n",
    "   - etc.\n",
    "\n",
    "\n",
    "- Requirement of the law: \n",
    "   - [Location Privacy Protection Act of 2001](http://www.techlawjournal.com/cong107/privacy/location/s1164is.asp)  \n",
    "\n",
    "\n",
    "### Adversary model\n",
    "\n",
    "Because frames are broadcasted in clear an adversary can:\n",
    "\n",
    "- eavesdrop frames and can extract MAC addresses \n",
    "- monitor targeted areas \n",
    "- record the overheard frame headers with location and time stamps\n",
    "- track the node movement by analyzing the location-time series collected"
   ]
  },
  {
   "cell_type": "markdown",
   "metadata": {
    "collapsed": true
   },
   "source": [
    "## The solution proposed\n",
    "\n",
    "- A method to lower the risks of location disclosure which:\n",
    "   \n",
    "   - combine the merits of two well known approaches (Periodic changes, Mix zones) to remove the shortcomings of these methods:\n",
    "   \n",
    "       - MAC address duplication\n",
    "       - Connection disruption\n",
    "       - AP access control conflict\n",
    "\n",
    "- The method is summarized as:\n",
    "  - Dynamically assigning MAC address to the hosts as in DHCP\n",
    "  - MAC address shuffle among the clients of a WLAN without exposing their exchange relation and frequently disrupting their current connection\n",
    "\n",
    "\n",
    "- Key ideas: \n",
    "   - a node acquires and changes its MAC address dynamically in the service area of an Access Point\n",
    "   - the address pool for the acquisition and exchange consists of initial publicly known MAC addresses and all the addresses that have participated in the service within a time period\n",
    "   - a node is initialized with a dynamically assigned MAC address the first time it enters the specified WLAN\n",
    "   - then  a shuffle scheme will periodically mutually exchange the MAC address among the nodes\n",
    "   - this will prevent the shortcomings listed before \n",
    "   - the system also shield the shuffle from IAAP ?\n",
    "   - silent periods can be used "
   ]
  },
  {
   "cell_type": "markdown",
   "metadata": {},
   "source": [
    "### Architecture\n",
    "\n",
    "- Modification of the authentication in WLAN (Access Point and Authentication Server) to add a Dynamic MAC Assignment Server (DMAS)\n",
    "- Each Access Point is associated with a DMAS (is a logical entity)\n",
    "- DMAS can be implemented in an entity where the security is guaranteed\n",
    "\n",
    "The architecture is illustrated on the Figure:\n",
    "\n",
    "![DMAS Architecture](dmas_architecture.png)"
   ]
  },
  {
   "cell_type": "markdown",
   "metadata": {},
   "source": [
    "#### Association procedure\n",
    "\n",
    "A station :\n",
    "\n",
    "- will use a Special MAC Address (SMA) in the beacon frames as source address instead of its true MAC address\n",
    "- shares a secret key and a Temporary client ID (TCID) with the Authentication Server\n",
    "\n",
    "The authentication process :\n",
    "\n",
    "1. A station $S$ sends associaition requests to AP with ${HNID, Encrypt(TCID, Password, R_s)}$\n",
    "2. AS uses $(TCID, Password)$ to verify if the $TCID$ is a valid station. The AS sends a MAC Address Request to it's DMAS\n",
    "3. The DMAS will return a free MAC address accocited whith a newly Generated $(USN,EK)$ pair\n",
    "4. The AS will then responds with ${Encrypt(Rc, TCID_{new}, Ra, MAC_{new}, USN, EK), R_a}$ to $S$.\n",
    "5. S checks the response and store the new TCID, (USN, EK) pair and respond to AS a message with RA\n",
    "6. AS checks the client's response and instructs the AP to block or permit access.\n",
    "7. After a variant silent period, $S$ changes its MAC address to the new MAC."
   ]
  },
  {
   "cell_type": "markdown",
   "metadata": {},
   "source": [
    "#### MAC shuffle \n",
    "- is a protocol to mutually change the MAC address among the current active stations\n",
    "\n",
    "- MAC address changing candidates will form a random circle $(C_1 \\rightarrow C_2 \\rightarrow \\cdots C_n\\rightarrow C_1)$\n",
    "- Then the MAC are changed according to $(C_1 \\leftarrow C_2 \\leftarrow \\cdots C_n\\leftarrow C_1)$ and so on\n",
    "\n",
    "- A station will only know it's next MAC address, but will not be able to determine who will use its original MAC \n",
    "\n",
    "The shuffle procedure:\n",
    "\n",
    "1. A station broadcasts a Shuffle Request Message with a cutoff time specification\n",
    "2. Receiving nodes will decide whether to participate to the shuffle or not. Decision factors can be:\n",
    "\n",
    "    - ongoing connections\n",
    "    - time of the last shuffle\n",
    "    - more criterias can be define\n",
    "    \n",
    "3. If a node joins the shuffle, it sends a Participation Shuffle Message (PSM) to the initiator with its own USN and encrypts its current MAC address by its Encryption Key (generated during the first DMAS server contact). This message is broadcasted using a faked source MAC address.\n",
    "\n",
    "4. The initiator collects the USNs and their corresponding encrypted MAC address until the cutoff time. Then, sends a SCD (Shuffled Collection Done) message containing this collection to the DMAS\n",
    "\n",
    "5. Upon receiving the SCD message, the DMAS:\n",
    "\n",
    "   - decrypts all the encrypted MAC addresses using the shared EKs with the stations. The USN is the index to locate the keys at DMAS (have a database holding all the information needed by the process)\n",
    "  - permutates all the USNs that participate to the shuffle\n",
    "  - generates update notifications for all the the participating nodes based on the permuation result\n",
    "\n",
    "6. DMAS broadcasts a Shuffle Instruction Message (SIS) composed of a set of exchanged pairs $(USN,Encrypt(MAC_{tochange}))$. \n",
    "The USN in the exchange pair is still in plaintext and EK encrypts the MAC address to the node specified by the USN. \n",
    "Once the node receives the the broadcast, it will get the correct pair, decrypt the second element in the pair and changes its current MAC adddress after a variable silent period. Only the holder of the key can decrypt the message. \n",
    "An adversary cannot link the old Mac adddress with the new one, even if the adversary particiapte to the shuffle.\n",
    "\n",
    "An example is given by figure below.\n",
    "\n",
    "![DMAS Shuffle](dmas_shuffle.png)\n",
    "\n",
    "#### Problems identified\n",
    "- Address duplication:  when a node answer to the PSM, but did not change its MAC address (due to missing DMAS message or other attacks) \n",
    "   - To avoid this the node requests a new address from the DMAS"
   ]
  },
  {
   "cell_type": "markdown",
   "metadata": {},
   "source": [
    "## Experimentation\n",
    "\n",
    "- type : simualtion"
   ]
  },
  {
   "cell_type": "markdown",
   "metadata": {},
   "source": [
    "Given :\n",
    "- $\\alpha$: the probability that a node will not join the shuffle\n",
    "- the scheme is resitant to the long distance tracing accross APs\n",
    "- when the AP zone is empty, the server will pick up an address from the backup pool\n",
    "\n",
    "### The probability that $n$ nodes are present in the AP\n",
    "- Modelisation of the system as a Poisson arrival process with:\n",
    "    - $\\lambda$ as parameter\n",
    "    - a node will stay in the system (AP) for an average $\\frac{1}{\\mu}$ assuming exponential distribution\n",
    "    - The single AP zone is $m/m/\\infty$ system\n",
    "    - the mean number of stations in the system is $E(n) = \\frac{\\lambda}{\\mu}$\n",
    "    - The probaility that there is $n$ node in the system is :\n",
    "     $P(n) = (\\frac{\\lambda}{\\mu})^n\\times \\frac{\\exp(\\frac{-\\lambda}{\\mu})}{n!}$"
   ]
  },
  {
   "cell_type": "code",
   "execution_count": null,
   "metadata": {},
   "outputs": [],
   "source": [
    "# the poisson probability distribution\n",
    "import matplotlib.pyplot as plt\n",
    "from scipy.stats import poisson\n",
    "\n",
    "def plot(n,exp):\n",
    "    fig, ax = plt.subplots(1, 1)\n",
    "    ax.plot(n, poisson.pmf(n, exp), label='poisson pmf')\n",
    "    ax.vlines(n, 0, poisson.pmf(n, exp), colors='b', lw=5, alpha=0.5)\n",
    "    plt.show()\n",
    "    \n",
    "\n",
    "# These are the default values given in the paper\n",
    "#n = 100\n",
    "d_lambda = l = 1./30\n",
    "d_mu = mu = 1./300\n",
    "d_alpha = a = 0.5\n",
    "exp = l/mu\n",
    "\n",
    "# Plot the PMF of the distribution\n",
    "plot(25, exp)\n"
   ]
  },
  {
   "cell_type": "markdown",
   "metadata": {},
   "source": [
    "### The probability of $k$-anonimity in each shuffle\n",
    "\n",
    "- The number of nodes participating to the shuffle is the anonimity set\n",
    "- Examine the probability of $k$-anonimity in each shuffle round\n",
    "- Given:\n",
    "   - $m$ the number of nodes participating to the shuffle among the $n$\n",
    "   - $p_{ka}$ the probability to achieve $k$-anonymity\n",
    "   \n",
    "   $\\begin{eqnarray}\n",
    "   P(m \\ge k) &=&1 - P(m < k) \\\\ \n",
    "              &=& 1 - P((1 - \\alpha)n < k) \\\\\n",
    "              &=& 1 - \\sum_{i=0}^{\\frac{k}{1-\\alpha} -1} P(i) \\\\\n",
    "              &=& 1 - \\sum_{i=0}^{\\frac{k}{1-\\alpha} -1} (\\frac{\\lambda}{\\mu})^i\\times \\frac{\\exp(\\frac{-\\lambda}{\\mu})}{i!}\n",
    "   \\end{eqnarray}$"
   ]
  },
  {
   "cell_type": "code",
   "execution_count": null,
   "metadata": {
    "collapsed": true
   },
   "outputs": [],
   "source": [
    "# The values of $k$\n",
    "ks = range(0,30, 5)\n",
    "\n",
    "kp = []\n",
    "\n",
    "\n",
    "def kanonproba(k, exp,a):\n",
    "    \"\"\"Determine the k-anonimyty probability\"\"\"\n",
    "    kp = 0\n",
    "    \n",
    "    for i in range(0, abs(int(k/(1 - a)) -1)):\n",
    "        kp  = kp + poisson.pmf(i, exp)\n",
    "    return max(0, 1 - kp)\n",
    "\n",
    "\n",
    "def calculateExp(value, t):\n",
    "    \n",
    "    if(t==1):\n",
    "        mu = value\n",
    "        l = d_lambda\n",
    "        a = d_alpha\n",
    "        \n",
    "    elif(t==2):\n",
    "        mu = d_mu\n",
    "        l= value\n",
    "        a = d_alpha\n",
    "    else:\n",
    "        mu = d_mu\n",
    "        l =d_lambda\n",
    "        a = value\n",
    "   \n",
    "    return l/mu,a\n",
    "       \n",
    "        \n",
    "def experimentKanon(values, text, t):\n",
    "  \"\"\"Experiment different cases of impact of the k-anonimity\"\"\"\n",
    "  fig, ax = plt.subplots(1, 1)\n",
    "  for value in values:\n",
    "      exp,a = calculateExp(value,t)\n",
    "      kp=[]\n",
    "    \n",
    "      for k in ks: \n",
    "        kp.append(kanonproba(k,exp,a))\n",
    "  \n",
    "      ax.plot(ks, kp, label=text+'='+\"{:.3f}\".format(value))\n",
    "\n",
    "  legend = ax.legend(loc='upper right', shadow=True, fontsize='x-large')\n",
    "\n",
    "    # Put a nicer background color on the legend.\n",
    "  legend.get_frame().set_facecolor('#00FFCC')\n",
    "\n",
    "  plt.show()"
   ]
  },
  {
   "cell_type": "markdown",
   "metadata": {},
   "source": [
    "#### Impact of $\\mu$ on $k$-anonimity"
   ]
  },
  {
   "cell_type": "code",
   "execution_count": null,
   "metadata": {},
   "outputs": [],
   "source": [
    "mus =[ 1.0/(x*100) for x in range(1,10, 2)]\n",
    "experimentKanon(mus, 'mu',1)"
   ]
  },
  {
   "cell_type": "markdown",
   "metadata": {},
   "source": [
    "#### Impact of $\\lambda$ on $k$-anonimity"
   ]
  },
  {
   "cell_type": "code",
   "execution_count": null,
   "metadata": {},
   "outputs": [],
   "source": [
    "ls =  [1.0/(x) for x in range(10,17, 2) ]\n",
    "experimentKanon(ls, 'l',2)"
   ]
  },
  {
   "cell_type": "markdown",
   "metadata": {},
   "source": [
    "#### Impact of $\\alpha$ on $k$-anonimity"
   ]
  },
  {
   "cell_type": "code",
   "execution_count": null,
   "metadata": {},
   "outputs": [],
   "source": [
    "alphas =  [x/10.0 for x in range(1,6)]\n",
    "experimentKanon(alphas, 'a',3)"
   ]
  },
  {
   "cell_type": "markdown",
   "metadata": {},
   "source": [
    "### The probability that a node never joins the shuffle\n",
    "Given :\n",
    " - $x$ the time a node will stay in the AP zone follows an exponential distribution\n",
    "    - $P(x) = \\mu\\exp(-\\mu\\times x)$\n",
    " - $t_{inv}$:  the shuffle interval time, during the life time of node, the node will encounter $\\frac{x}{t_{inv}}$ number of shuffles invitations\n",
    " - The probability of a node to not join in any shuffle in its life time is:\n",
    "      \n",
    "      $P_{no} = \\alpha^{\\frac{x}{t_{inv}}}$\n",
    "      \n",
    " - The probability that a node never join an shuffle during its stay in the AP is:\n",
    " \n",
    "      $P_{noap} = P(x)\\times P_{no}$\n",
    " \n"
   ]
  },
  {
   "cell_type": "code",
   "execution_count": null,
   "metadata": {
    "collapsed": true
   },
   "outputs": [],
   "source": [
    "from scipy.stats import expon\n",
    "def exp(time, mu):\n",
    "    return expon.cdf(mu,0, time)\n",
    "\n",
    "\n",
    "def noshuffle(alpha, time, interval):\n",
    "    return pow(alpha, time/interval)\n",
    "\n",
    "\n",
    "def noshuffleinap(time, interval, alpha, mu):\n",
    "    return exp(time, mu) * noshuffle(alpha, time, interval)\n",
    "\n",
    "times = range(5,14,2)\n",
    "\n",
    "\n",
    "def experimentShuffle(times,interval, alpha, mu): \n",
    " \n",
    "      shuffle_probas=[]\n",
    "    \n",
    "      for time in times: \n",
    "        shuffle_probas.append(noshuffleinap(time, interval, alpha, mu))\n",
    "  \n",
    "      return shuffle_probas\n",
    "\n",
    "\n",
    "def plot (ax, times, interval, alpha,mu, msg, k): \n",
    "    shuffle_probas = experimentShuffle(times, interval, alpha, mu)\n",
    "    ax.plot(times, shuffle_probas, label=msg+'='+\"{:.3f}\".format(k))\n",
    "\n",
    "    legend = ax.legend(loc='upper right', shadow=True, fontsize='x-large')\n",
    "\n",
    "    # Put a nicer background color on the legend.\n",
    "    legend.get_frame().set_facecolor('#00FFCC')\n",
    "    "
   ]
  },
  {
   "cell_type": "markdown",
   "metadata": {},
   "source": [
    "#### Impact of $\\mu$ on $P_{no}$"
   ]
  },
  {
   "cell_type": "code",
   "execution_count": null,
   "metadata": {},
   "outputs": [],
   "source": [
    "#mus = [1./10, 1./30, 1./50]\n",
    "fig, ax = plt.subplots(1, 1)\n",
    "for mu in mus:\n",
    "    plot(ax, times,4, 0.5, mu, 'mu',mu)\n",
    "\n",
    "plt.show()\n",
    "#print(kp)"
   ]
  },
  {
   "cell_type": "markdown",
   "metadata": {},
   "source": [
    "#### Impact of $t_{inv}$ on $P_{no}$"
   ]
  },
  {
   "cell_type": "code",
   "execution_count": null,
   "metadata": {},
   "outputs": [],
   "source": [
    "intervals = range(4,8)\n",
    "fig, ax = plt.subplots(1, 1)\n",
    "for interval in intervals:\n",
    "    plot(ax, times,interval, 0.5, 1./300, 't',interval)\n",
    "   \n",
    "plt.show()"
   ]
  },
  {
   "cell_type": "markdown",
   "metadata": {},
   "source": [
    "#### Impact of $\\alpha$ on $P_{no}$"
   ]
  },
  {
   "cell_type": "code",
   "execution_count": null,
   "metadata": {},
   "outputs": [],
   "source": [
    "fig, ax = plt.subplots(1, 1)\n",
    "for alpha in alphas:\n",
    "    plot(ax, times,4, alpha, 1./300, 'a',alpha)\n",
    "  \n",
    "\n",
    "plt.show()"
   ]
  },
  {
   "cell_type": "markdown",
   "metadata": {
    "collapsed": true
   },
   "source": [
    "## Related work\n",
    "\n",
    "- [Mix zones ](http://localhost:8888/notebooks/Location%20Privacy%20in%20Pervasive%20Computing.ipynb#)\n",
    "\n",
    "- [Disposable interface identifiers](http://localhost:8888/notebooks/Enhancing%20Location%20Privacy%20in%20Wireless%20LAN%20Through%20Disposable%20Interface%20Identifiers%20A%20Quantitative%20Analysis.ipynb)\n",
    "\n",
    "- [Silent period](http://localhost:8888/notebooks/Enhancing%20Wireless%20Location%20Privacy%20Using%20Silent%20Period.ipynb)"
   ]
  },
  {
   "cell_type": "markdown",
   "metadata": {},
   "source": [
    "## Reader's remarks\n",
    "\n",
    "### Pros\n",
    "- However some good points \n",
    "- attemps to formalise the MAC address change strategies with probabilities\n",
    "\n",
    "\n",
    "### Cons\n",
    "- The definition of k-anonymity does not correspond to the one given by \n"
   ]
  },
  {
   "cell_type": "code",
   "execution_count": null,
   "metadata": {},
   "outputs": [],
   "source": [
    "### Prints the definifion:\n",
    "from bs4 import BeautifulSoup\n",
    "from urllib.request import urlopen, Request\n",
    "from IPython.core.display import display, HTML\n",
    "\n",
    "website = 'https://en.wiktionary.org/w/index.php?title={}&printable=yes'\n",
    "larousse = 'http://www.larousse.fr/dictionnaires/anglais-francais/{}'\n",
    "\n",
    "    \n",
    "\n",
    "def request(url, word):\n",
    "    html = urlopen(Request(url.format(word),headers={'User-Agent': 'Mozilla'})).read().decode('UTF-8')\n",
    "    soup = BeautifulSoup(html,\"lxml\")\n",
    "    \n",
    "    articles = [item for item in soup.find_all('article', attrs={'role' : True})]\n",
    "   \n",
    "    [display(HTML(str(article))) for article in articles]\n",
    "    \n",
    "words = ['overheard']\n",
    "\n",
    "[request(larousse, x) for x in words]"
   ]
  }
 ],
 "metadata": {
  "anaconda-cloud": {},
  "kernelspec": {
   "display_name": "Python 3",
   "language": "python",
   "name": "python3"
  },
  "language_info": {
   "codemirror_mode": {
    "name": "ipython",
    "version": 3
   },
   "file_extension": ".py",
   "mimetype": "text/x-python",
   "name": "python",
   "nbconvert_exporter": "python",
   "pygments_lexer": "ipython3",
   "version": "3.6.1"
  }
 },
 "nbformat": 4,
 "nbformat_minor": 1
}
